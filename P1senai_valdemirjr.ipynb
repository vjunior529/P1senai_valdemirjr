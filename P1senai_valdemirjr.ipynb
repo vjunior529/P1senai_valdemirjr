{
 "cells": [
  {
   "cell_type": "markdown",
   "id": "88cb474a",
   "metadata": {},
   "source": [
    "Desenvolver um modelo de Aprendizado de Máquina para identificar padrões do equipamento em análise. Desenvolva o Pipeline completo de um projeto de Aprendizado de Máquina, desde a Análise e preparação dos dados adquiridos até a disponibilização do algoritmo no GitHub."
   ]
  },
  {
   "cell_type": "code",
   "execution_count": 1,
   "id": "9b582d2a",
   "metadata": {},
   "outputs": [],
   "source": [
    "# Importing the necessary libraries\n",
    "import numpy as np\n",
    "import matplotlib.pyplot as plt\n",
    "import pandas as pd"
   ]
  },
  {
   "cell_type": "code",
   "execution_count": 2,
   "id": "447a7910",
   "metadata": {},
   "outputs": [],
   "source": [
    "# Importing the dataset\n",
    "# np.load() função retorna a matriz de entrada de um arquivo de disco com extensão npy (.npy).\n",
    "Dados_1 = np.load(\"Dados_1.npy\")\n",
    "Dados_2 = np.load('Dados_2.npy')\n",
    "Dados_3 = np.load('Dados_3.npy')\n",
    "Dados_4 = np.load('Dados_4.npy')\n",
    "Dados_5 = np.load('Dados_5.npy')\n",
    "Classes = np.load('Classes.npy', allow_pickle=True)\n"
   ]
  },
  {
   "cell_type": "code",
   "execution_count": 3,
   "id": "1e4379c8",
   "metadata": {},
   "outputs": [
    {
     "data": {
      "text/plain": [
       "array([['Classe D'],\n",
       "       ['Classe A'],\n",
       "       ['Classe A'],\n",
       "       ...,\n",
       "       ['Classe D'],\n",
       "       ['Classe A'],\n",
       "       ['Classe B']], dtype=object)"
      ]
     },
     "execution_count": 3,
     "metadata": {},
     "output_type": "execute_result"
    }
   ],
   "source": [
    "Classes \n"
   ]
  },
  {
   "cell_type": "code",
   "execution_count": 4,
   "id": "d8c39582",
   "metadata": {},
   "outputs": [
    {
     "name": "stdout",
     "output_type": "stream",
     "text": [
      "(50000, 201)\n",
      "(50000, 201)\n",
      "(50000, 201)\n",
      "(50000, 200)\n",
      "(50000, 200)\n",
      "(50000, 1)\n"
     ]
    }
   ],
   "source": [
    "# Obtenha a forma de um array com a função np.shape() em Python\n",
    "print(np.shape(Dados_1))\n",
    "print(np.shape(Dados_2))\n",
    "print(np.shape(Dados_3))\n",
    "print(np.shape(Dados_4))\n",
    "print(np.shape(Dados_5))\n",
    "print(np.shape(Classes))"
   ]
  },
  {
   "cell_type": "code",
   "execution_count": 5,
   "id": "f21336b2",
   "metadata": {},
   "outputs": [
    {
     "name": "stdout",
     "output_type": "stream",
     "text": [
      "10050000\n",
      "10050000\n",
      "10050000\n",
      "10000000\n",
      "10000000\n",
      "50000\n"
     ]
    }
   ],
   "source": [
    "# A função np.size() no pacote NumPy retorna o tamanho de um determinado array\n",
    "print(np.size(Dados_1))\n",
    "print(np.size(Dados_2))\n",
    "print(np.size(Dados_3))\n",
    "print(np.size(Dados_4))\n",
    "print(np.size(Dados_5))\n",
    "print(np.size(Classes))"
   ]
  },
  {
   "cell_type": "markdown",
   "id": "07b2aefb",
   "metadata": {},
   "source": [
    "# Neste método, primeiro salvaremos o array em um DataFrame pandas e então converteremos este DataFrame em um arquivo CSV.\n",
    "#https://www.delftstack.com/pt/howto/numpy/numpy-array-to-csv/\n",
    "pd.DataFrame(Dados_1).to_csv(\"Dados_1.csv\")\n",
    "pd.DataFrame(Dados_2).to_csv(\"Dados_2.csv\")\n",
    "pd.DataFrame(Dados_3).to_csv(\"Dados_3.csv\")\n",
    "pd.DataFrame(Dados_4).to_csv(\"Dados_4.csv\")\n",
    "pd.DataFrame(Dados_5).to_csv(\"Dados_5.csv\")\n",
    "pd.DataFrame(Classes).to_csv(\"Classes.csv\")"
   ]
  },
  {
   "cell_type": "code",
   "execution_count": 6,
   "id": "993af8dd",
   "metadata": {},
   "outputs": [],
   "source": [
    "# Arrays do NumPy desempenham um papel crítico em algoritmos de machine learning. \n",
    "# Modelos de machine learning recebem dados na forma de arrays, e o NumPy fornece várias ferramentas para pré-processar e \n",
    "# manipular esses dados.\n",
    "# https://docs.kanaries.net/pt/topics/NumPy/visualize-numpy-array\n"
   ]
  },
  {
   "cell_type": "code",
   "execution_count": 43,
   "id": "69342ca8",
   "metadata": {},
   "outputs": [],
   "source": [
    "#Exclir colunas dos arrays\n",
    "Dados_11 = Dados_1[:, 0:1]\n",
    "Dados_22 = Dados_2[:, 0:1]\n",
    "Dados_33 = Dados_3[:, 0:1]\n",
    "Dados_44 = Dados_4[:, 0:1]\n",
    "Dados_55= Dados_5[:, 0:1]"
   ]
  },
  {
   "cell_type": "code",
   "execution_count": 64,
   "id": "562c4084",
   "metadata": {},
   "outputs": [],
   "source": [
    "#Convertendo os arrays para um datframe\n",
    "data1 = pd.DataFrame(Dados_11)\n",
    "data2 = pd.DataFrame(Dados_22)\n",
    "data3 = pd.DataFrame(Dados_33)\n",
    "data4 = pd.DataFrame(Dados_44)\n",
    "data5 = pd.DataFrame(Dados_55)\n",
    "data6 = pd.DataFrame(Classes)\n",
    "#  método concat() para combinar os DataFrames\n",
    "df = pd.concat([data1, data2, data3, data4, data5, data6], axis=1)\n"
   ]
  },
  {
   "cell_type": "code",
   "execution_count": 65,
   "id": "72ca8df3",
   "metadata": {},
   "outputs": [
    {
     "data": {
      "text/html": [
       "<div>\n",
       "<style scoped>\n",
       "    .dataframe tbody tr th:only-of-type {\n",
       "        vertical-align: middle;\n",
       "    }\n",
       "\n",
       "    .dataframe tbody tr th {\n",
       "        vertical-align: top;\n",
       "    }\n",
       "\n",
       "    .dataframe thead th {\n",
       "        text-align: right;\n",
       "    }\n",
       "</style>\n",
       "<table border=\"1\" class=\"dataframe\">\n",
       "  <thead>\n",
       "    <tr style=\"text-align: right;\">\n",
       "      <th></th>\n",
       "      <th>Dados_1</th>\n",
       "      <th>Dados_2</th>\n",
       "      <th>Dados_3</th>\n",
       "      <th>Dados_4</th>\n",
       "      <th>Dados_5</th>\n",
       "      <th>Classes</th>\n",
       "    </tr>\n",
       "  </thead>\n",
       "  <tbody>\n",
       "    <tr>\n",
       "      <th>0</th>\n",
       "      <td>-0.032906</td>\n",
       "      <td>-0.032458</td>\n",
       "      <td>-0.182078</td>\n",
       "      <td>50.0</td>\n",
       "      <td>20.881372</td>\n",
       "      <td>Classe D</td>\n",
       "    </tr>\n",
       "    <tr>\n",
       "      <th>1</th>\n",
       "      <td>0.198619</td>\n",
       "      <td>-0.044002</td>\n",
       "      <td>-0.065122</td>\n",
       "      <td>50.0</td>\n",
       "      <td>-1.206457</td>\n",
       "      <td>Classe A</td>\n",
       "    </tr>\n",
       "    <tr>\n",
       "      <th>2</th>\n",
       "      <td>-0.000792</td>\n",
       "      <td>0.012965</td>\n",
       "      <td>-0.057997</td>\n",
       "      <td>50.0</td>\n",
       "      <td>62.824083</td>\n",
       "      <td>Classe A</td>\n",
       "    </tr>\n",
       "    <tr>\n",
       "      <th>3</th>\n",
       "      <td>-0.086419</td>\n",
       "      <td>-0.254154</td>\n",
       "      <td>-0.200595</td>\n",
       "      <td>50.0</td>\n",
       "      <td>-7.094894</td>\n",
       "      <td>Classe B</td>\n",
       "    </tr>\n",
       "    <tr>\n",
       "      <th>4</th>\n",
       "      <td>-0.185975</td>\n",
       "      <td>-0.134391</td>\n",
       "      <td>0.519974</td>\n",
       "      <td>50.0</td>\n",
       "      <td>14.008962</td>\n",
       "      <td>Classe D</td>\n",
       "    </tr>\n",
       "    <tr>\n",
       "      <th>...</th>\n",
       "      <td>...</td>\n",
       "      <td>...</td>\n",
       "      <td>...</td>\n",
       "      <td>...</td>\n",
       "      <td>...</td>\n",
       "      <td>...</td>\n",
       "    </tr>\n",
       "    <tr>\n",
       "      <th>49995</th>\n",
       "      <td>-0.150609</td>\n",
       "      <td>0.081469</td>\n",
       "      <td>0.012576</td>\n",
       "      <td>50.0</td>\n",
       "      <td>54.279703</td>\n",
       "      <td>Classe B</td>\n",
       "    </tr>\n",
       "    <tr>\n",
       "      <th>49996</th>\n",
       "      <td>-0.022837</td>\n",
       "      <td>-0.201811</td>\n",
       "      <td>0.177279</td>\n",
       "      <td>50.0</td>\n",
       "      <td>63.216018</td>\n",
       "      <td>Classe E</td>\n",
       "    </tr>\n",
       "    <tr>\n",
       "      <th>49997</th>\n",
       "      <td>-0.050631</td>\n",
       "      <td>-0.034103</td>\n",
       "      <td>-0.178266</td>\n",
       "      <td>50.0</td>\n",
       "      <td>65.833098</td>\n",
       "      <td>Classe D</td>\n",
       "    </tr>\n",
       "    <tr>\n",
       "      <th>49998</th>\n",
       "      <td>-0.161478</td>\n",
       "      <td>0.198287</td>\n",
       "      <td>0.400348</td>\n",
       "      <td>50.0</td>\n",
       "      <td>47.373926</td>\n",
       "      <td>Classe A</td>\n",
       "    </tr>\n",
       "    <tr>\n",
       "      <th>49999</th>\n",
       "      <td>0.107004</td>\n",
       "      <td>0.047783</td>\n",
       "      <td>0.101083</td>\n",
       "      <td>50.0</td>\n",
       "      <td>104.021377</td>\n",
       "      <td>Classe B</td>\n",
       "    </tr>\n",
       "  </tbody>\n",
       "</table>\n",
       "<p>50000 rows × 6 columns</p>\n",
       "</div>"
      ],
      "text/plain": [
       "        Dados_1   Dados_2   Dados_3  Dados_4     Dados_5   Classes\n",
       "0     -0.032906 -0.032458 -0.182078     50.0   20.881372  Classe D\n",
       "1      0.198619 -0.044002 -0.065122     50.0   -1.206457  Classe A\n",
       "2     -0.000792  0.012965 -0.057997     50.0   62.824083  Classe A\n",
       "3     -0.086419 -0.254154 -0.200595     50.0   -7.094894  Classe B\n",
       "4     -0.185975 -0.134391  0.519974     50.0   14.008962  Classe D\n",
       "...         ...       ...       ...      ...         ...       ...\n",
       "49995 -0.150609  0.081469  0.012576     50.0   54.279703  Classe B\n",
       "49996 -0.022837 -0.201811  0.177279     50.0   63.216018  Classe E\n",
       "49997 -0.050631 -0.034103 -0.178266     50.0   65.833098  Classe D\n",
       "49998 -0.161478  0.198287  0.400348     50.0   47.373926  Classe A\n",
       "49999  0.107004  0.047783  0.101083     50.0  104.021377  Classe B\n",
       "\n",
       "[50000 rows x 6 columns]"
      ]
     },
     "execution_count": 65,
     "metadata": {},
     "output_type": "execute_result"
    }
   ],
   "source": [
    "df.columns = ['Dados_1', 'Dados_2','Dados_3','Dados_4','Dados_5','Classes']\n",
    "df"
   ]
  },
  {
   "cell_type": "code",
   "execution_count": 66,
   "id": "f6aabb14",
   "metadata": {},
   "outputs": [
    {
     "data": {
      "text/plain": [
       "Classes\n",
       "Classe A    10000\n",
       "Classe B    10000\n",
       "Classe C    10000\n",
       "Classe D    10000\n",
       "Classe E    10000\n",
       "dtype: int64"
      ]
     },
     "execution_count": 66,
     "metadata": {},
     "output_type": "execute_result"
    }
   ],
   "source": [
    "# Verifica a distribuição das classes\n",
    "df.groupby('Classes').size()"
   ]
  },
  {
   "cell_type": "code",
   "execution_count": 67,
   "id": "c18fb4a1",
   "metadata": {},
   "outputs": [
    {
     "data": {
      "text/plain": [
       "0        4\n",
       "1        1\n",
       "2        1\n",
       "3        2\n",
       "4        4\n",
       "        ..\n",
       "49995    2\n",
       "49996    5\n",
       "49997    4\n",
       "49998    1\n",
       "49999    2\n",
       "Name: Classes, Length: 50000, dtype: int64"
      ]
     },
     "execution_count": 67,
     "metadata": {},
     "output_type": "execute_result"
    }
   ],
   "source": [
    "# Convertendo Classes para números \n",
    "def checar_Classes(Classes):\n",
    "    if Classes == 'Classe A':\n",
    "        return 1\n",
    "    elif Classes == 'Classe B':\n",
    "        return 2\n",
    "    elif Classes == 'Classe C':\n",
    "        return 3\n",
    "    elif Classes == 'Classe D':\n",
    "        return 4\n",
    "    else:\n",
    "        return 5\n",
    "#Aplicando a função checar_TeordeAgua\n",
    "df['Classes'].apply(checar_Classes)\n"
   ]
  },
  {
   "cell_type": "code",
   "execution_count": 70,
   "id": "cde0c2c1",
   "metadata": {},
   "outputs": [],
   "source": [
    "# Criando a coluna \n",
    "df['Classes']= df['Classes'].apply(checar_Classes)"
   ]
  },
  {
   "cell_type": "code",
   "execution_count": 71,
   "id": "39f662df",
   "metadata": {},
   "outputs": [
    {
     "data": {
      "text/html": [
       "<div>\n",
       "<style scoped>\n",
       "    .dataframe tbody tr th:only-of-type {\n",
       "        vertical-align: middle;\n",
       "    }\n",
       "\n",
       "    .dataframe tbody tr th {\n",
       "        vertical-align: top;\n",
       "    }\n",
       "\n",
       "    .dataframe thead th {\n",
       "        text-align: right;\n",
       "    }\n",
       "</style>\n",
       "<table border=\"1\" class=\"dataframe\">\n",
       "  <thead>\n",
       "    <tr style=\"text-align: right;\">\n",
       "      <th></th>\n",
       "      <th>Dados_1</th>\n",
       "      <th>Dados_2</th>\n",
       "      <th>Dados_3</th>\n",
       "      <th>Dados_4</th>\n",
       "      <th>Dados_5</th>\n",
       "      <th>Classes</th>\n",
       "    </tr>\n",
       "  </thead>\n",
       "  <tbody>\n",
       "    <tr>\n",
       "      <th>0</th>\n",
       "      <td>-0.032906</td>\n",
       "      <td>-0.032458</td>\n",
       "      <td>-0.182078</td>\n",
       "      <td>50.0</td>\n",
       "      <td>20.881372</td>\n",
       "      <td>4</td>\n",
       "    </tr>\n",
       "    <tr>\n",
       "      <th>1</th>\n",
       "      <td>0.198619</td>\n",
       "      <td>-0.044002</td>\n",
       "      <td>-0.065122</td>\n",
       "      <td>50.0</td>\n",
       "      <td>-1.206457</td>\n",
       "      <td>1</td>\n",
       "    </tr>\n",
       "    <tr>\n",
       "      <th>2</th>\n",
       "      <td>-0.000792</td>\n",
       "      <td>0.012965</td>\n",
       "      <td>-0.057997</td>\n",
       "      <td>50.0</td>\n",
       "      <td>62.824083</td>\n",
       "      <td>1</td>\n",
       "    </tr>\n",
       "    <tr>\n",
       "      <th>3</th>\n",
       "      <td>-0.086419</td>\n",
       "      <td>-0.254154</td>\n",
       "      <td>-0.200595</td>\n",
       "      <td>50.0</td>\n",
       "      <td>-7.094894</td>\n",
       "      <td>2</td>\n",
       "    </tr>\n",
       "    <tr>\n",
       "      <th>4</th>\n",
       "      <td>-0.185975</td>\n",
       "      <td>-0.134391</td>\n",
       "      <td>0.519974</td>\n",
       "      <td>50.0</td>\n",
       "      <td>14.008962</td>\n",
       "      <td>4</td>\n",
       "    </tr>\n",
       "    <tr>\n",
       "      <th>...</th>\n",
       "      <td>...</td>\n",
       "      <td>...</td>\n",
       "      <td>...</td>\n",
       "      <td>...</td>\n",
       "      <td>...</td>\n",
       "      <td>...</td>\n",
       "    </tr>\n",
       "    <tr>\n",
       "      <th>49995</th>\n",
       "      <td>-0.150609</td>\n",
       "      <td>0.081469</td>\n",
       "      <td>0.012576</td>\n",
       "      <td>50.0</td>\n",
       "      <td>54.279703</td>\n",
       "      <td>2</td>\n",
       "    </tr>\n",
       "    <tr>\n",
       "      <th>49996</th>\n",
       "      <td>-0.022837</td>\n",
       "      <td>-0.201811</td>\n",
       "      <td>0.177279</td>\n",
       "      <td>50.0</td>\n",
       "      <td>63.216018</td>\n",
       "      <td>5</td>\n",
       "    </tr>\n",
       "    <tr>\n",
       "      <th>49997</th>\n",
       "      <td>-0.050631</td>\n",
       "      <td>-0.034103</td>\n",
       "      <td>-0.178266</td>\n",
       "      <td>50.0</td>\n",
       "      <td>65.833098</td>\n",
       "      <td>4</td>\n",
       "    </tr>\n",
       "    <tr>\n",
       "      <th>49998</th>\n",
       "      <td>-0.161478</td>\n",
       "      <td>0.198287</td>\n",
       "      <td>0.400348</td>\n",
       "      <td>50.0</td>\n",
       "      <td>47.373926</td>\n",
       "      <td>1</td>\n",
       "    </tr>\n",
       "    <tr>\n",
       "      <th>49999</th>\n",
       "      <td>0.107004</td>\n",
       "      <td>0.047783</td>\n",
       "      <td>0.101083</td>\n",
       "      <td>50.0</td>\n",
       "      <td>104.021377</td>\n",
       "      <td>2</td>\n",
       "    </tr>\n",
       "  </tbody>\n",
       "</table>\n",
       "<p>50000 rows × 6 columns</p>\n",
       "</div>"
      ],
      "text/plain": [
       "        Dados_1   Dados_2   Dados_3  Dados_4     Dados_5  Classes\n",
       "0     -0.032906 -0.032458 -0.182078     50.0   20.881372        4\n",
       "1      0.198619 -0.044002 -0.065122     50.0   -1.206457        1\n",
       "2     -0.000792  0.012965 -0.057997     50.0   62.824083        1\n",
       "3     -0.086419 -0.254154 -0.200595     50.0   -7.094894        2\n",
       "4     -0.185975 -0.134391  0.519974     50.0   14.008962        4\n",
       "...         ...       ...       ...      ...         ...      ...\n",
       "49995 -0.150609  0.081469  0.012576     50.0   54.279703        2\n",
       "49996 -0.022837 -0.201811  0.177279     50.0   63.216018        5\n",
       "49997 -0.050631 -0.034103 -0.178266     50.0   65.833098        4\n",
       "49998 -0.161478  0.198287  0.400348     50.0   47.373926        1\n",
       "49999  0.107004  0.047783  0.101083     50.0  104.021377        2\n",
       "\n",
       "[50000 rows x 6 columns]"
      ]
     },
     "execution_count": 71,
     "metadata": {},
     "output_type": "execute_result"
    }
   ],
   "source": [
    "df"
   ]
  },
  {
   "cell_type": "code",
   "execution_count": 72,
   "id": "c653a68d",
   "metadata": {},
   "outputs": [
    {
     "data": {
      "text/plain": [
       "Classes\n",
       "1    10000\n",
       "2    10000\n",
       "3    10000\n",
       "4    10000\n",
       "5    10000\n",
       "dtype: int64"
      ]
     },
     "execution_count": 72,
     "metadata": {},
     "output_type": "execute_result"
    }
   ],
   "source": [
    "df.groupby('Classes').size()"
   ]
  },
  {
   "cell_type": "code",
   "execution_count": 73,
   "id": "8fde1fcd",
   "metadata": {},
   "outputs": [
    {
     "name": "stdout",
     "output_type": "stream",
     "text": [
      "<class 'pandas.core.frame.DataFrame'>\n",
      "RangeIndex: 50000 entries, 0 to 49999\n",
      "Data columns (total 6 columns):\n",
      " #   Column   Non-Null Count  Dtype  \n",
      "---  ------   --------------  -----  \n",
      " 0   Dados_1  50000 non-null  float64\n",
      " 1   Dados_2  50000 non-null  float64\n",
      " 2   Dados_3  50000 non-null  float64\n",
      " 3   Dados_4  49949 non-null  float64\n",
      " 4   Dados_5  48760 non-null  float64\n",
      " 5   Classes  50000 non-null  int64  \n",
      "dtypes: float64(5), int64(1)\n",
      "memory usage: 2.3 MB\n"
     ]
    }
   ],
   "source": [
    "df.info()"
   ]
  },
  {
   "cell_type": "code",
   "execution_count": 74,
   "id": "faa8d775",
   "metadata": {},
   "outputs": [
    {
     "data": {
      "text/html": [
       "<div>\n",
       "<style scoped>\n",
       "    .dataframe tbody tr th:only-of-type {\n",
       "        vertical-align: middle;\n",
       "    }\n",
       "\n",
       "    .dataframe tbody tr th {\n",
       "        vertical-align: top;\n",
       "    }\n",
       "\n",
       "    .dataframe thead th {\n",
       "        text-align: right;\n",
       "    }\n",
       "</style>\n",
       "<table border=\"1\" class=\"dataframe\">\n",
       "  <thead>\n",
       "    <tr style=\"text-align: right;\">\n",
       "      <th></th>\n",
       "      <th>Dados_1</th>\n",
       "      <th>Dados_2</th>\n",
       "      <th>Dados_3</th>\n",
       "      <th>Dados_4</th>\n",
       "      <th>Dados_5</th>\n",
       "      <th>Classes</th>\n",
       "    </tr>\n",
       "  </thead>\n",
       "  <tbody>\n",
       "    <tr>\n",
       "      <th>count</th>\n",
       "      <td>50000.000000</td>\n",
       "      <td>50000.000000</td>\n",
       "      <td>50000.000000</td>\n",
       "      <td>49949.0</td>\n",
       "      <td>48760.000000</td>\n",
       "      <td>50000.000000</td>\n",
       "    </tr>\n",
       "    <tr>\n",
       "      <th>mean</th>\n",
       "      <td>0.007289</td>\n",
       "      <td>0.007429</td>\n",
       "      <td>0.007364</td>\n",
       "      <td>50.0</td>\n",
       "      <td>48.171903</td>\n",
       "      <td>3.000000</td>\n",
       "    </tr>\n",
       "    <tr>\n",
       "      <th>std</th>\n",
       "      <td>0.085314</td>\n",
       "      <td>0.184788</td>\n",
       "      <td>0.234831</td>\n",
       "      <td>0.0</td>\n",
       "      <td>33.727605</td>\n",
       "      <td>1.414228</td>\n",
       "    </tr>\n",
       "    <tr>\n",
       "      <th>min</th>\n",
       "      <td>-0.378568</td>\n",
       "      <td>-0.836852</td>\n",
       "      <td>-1.160500</td>\n",
       "      <td>50.0</td>\n",
       "      <td>-19.449902</td>\n",
       "      <td>1.000000</td>\n",
       "    </tr>\n",
       "    <tr>\n",
       "      <th>25%</th>\n",
       "      <td>-0.049378</td>\n",
       "      <td>-0.110485</td>\n",
       "      <td>-0.143990</td>\n",
       "      <td>50.0</td>\n",
       "      <td>22.309652</td>\n",
       "      <td>2.000000</td>\n",
       "    </tr>\n",
       "    <tr>\n",
       "      <th>50%</th>\n",
       "      <td>0.006772</td>\n",
       "      <td>0.005182</td>\n",
       "      <td>0.005297</td>\n",
       "      <td>50.0</td>\n",
       "      <td>43.690278</td>\n",
       "      <td>3.000000</td>\n",
       "    </tr>\n",
       "    <tr>\n",
       "      <th>75%</th>\n",
       "      <td>0.063485</td>\n",
       "      <td>0.125006</td>\n",
       "      <td>0.158464</td>\n",
       "      <td>50.0</td>\n",
       "      <td>71.905092</td>\n",
       "      <td>4.000000</td>\n",
       "    </tr>\n",
       "    <tr>\n",
       "      <th>max</th>\n",
       "      <td>0.394856</td>\n",
       "      <td>0.844976</td>\n",
       "      <td>1.245040</td>\n",
       "      <td>50.0</td>\n",
       "      <td>139.510530</td>\n",
       "      <td>5.000000</td>\n",
       "    </tr>\n",
       "  </tbody>\n",
       "</table>\n",
       "</div>"
      ],
      "text/plain": [
       "            Dados_1       Dados_2       Dados_3  Dados_4       Dados_5  \\\n",
       "count  50000.000000  50000.000000  50000.000000  49949.0  48760.000000   \n",
       "mean       0.007289      0.007429      0.007364     50.0     48.171903   \n",
       "std        0.085314      0.184788      0.234831      0.0     33.727605   \n",
       "min       -0.378568     -0.836852     -1.160500     50.0    -19.449902   \n",
       "25%       -0.049378     -0.110485     -0.143990     50.0     22.309652   \n",
       "50%        0.006772      0.005182      0.005297     50.0     43.690278   \n",
       "75%        0.063485      0.125006      0.158464     50.0     71.905092   \n",
       "max        0.394856      0.844976      1.245040     50.0    139.510530   \n",
       "\n",
       "            Classes  \n",
       "count  50000.000000  \n",
       "mean       3.000000  \n",
       "std        1.414228  \n",
       "min        1.000000  \n",
       "25%        2.000000  \n",
       "50%        3.000000  \n",
       "75%        4.000000  \n",
       "max        5.000000  "
      ]
     },
     "execution_count": 74,
     "metadata": {},
     "output_type": "execute_result"
    }
   ],
   "source": [
    "# Visualização de Dados\n",
    "df.describe()"
   ]
  },
  {
   "cell_type": "markdown",
   "id": "b2896f1f",
   "metadata": {},
   "source": [
    " Dempenho de Técnicas de AM é Afetado pela Qualidade dos Dados\n",
    "# Pré-processamento\n",
    "Grupo de tarefas de pré-processamento:\n",
    "- Eliminação manual de atributos\n",
    "- Integração de dados\n",
    "- Amostragem de dados\n",
    "- Redução de dimensionalidade\n",
    "- Balanceamento de dados\n",
    "- Limpeza de dados\n",
    "- Transformação de dados\n",
    "\n",
    "Observação: não existe ordem fixa para aplicação das diferentes técnicas de pré-processamento\n",
    "\n",
    "Inteligência Artificial - Uma Abordagem de Aprendizado de Máquina,  2nd Edition."
   ]
  },
  {
   "cell_type": "markdown",
   "id": "60fa2791",
   "metadata": {},
   "source": [
    "# Verificação de valores duplicados"
   ]
  },
  {
   "cell_type": "code",
   "execution_count": 75,
   "id": "3352304d",
   "metadata": {},
   "outputs": [
    {
     "name": "stdout",
     "output_type": "stream",
     "text": [
      "Não existem valores duplicados\n"
     ]
    }
   ],
   "source": [
    "if __name__ == '__main__':\n",
    "    df_duplicates = df[df.duplicated(subset=['Dados_1','Dados_2','Dados_3','Dados_4','Dados_5'],keep=False)] \n",
    "\n",
    "    # se tiver valores redundantes ou inconsistentes, imprima \n",
    "    if len(df_duplicates)>0:\n",
    "        print('\\nAmostras redundantes ou inconsistentes:')\n",
    "        display(df_duplicates)\n",
    "    else:\n",
    "        print('Não existem valores duplicados')"
   ]
  },
  {
   "cell_type": "markdown",
   "id": "3afb462e",
   "metadata": {},
   "source": [
    "# Implementando modelos sem transformação de dados e desbalanceado"
   ]
  },
  {
   "cell_type": "code",
   "execution_count": 79,
   "id": "b9be3514",
   "metadata": {},
   "outputs": [],
   "source": [
    "import pandas as pd\n",
    "import seaborn as sns\n",
    "from sklearn.model_selection import train_test_split\n",
    "from sklearn.linear_model import LogisticRegression\n",
    "from sklearn.neighbors import KNeighborsClassifier\n",
    "from sklearn import svm\n",
    "from sklearn.tree import DecisionTreeClassifier\n",
    "from sklearn.metrics import classification_report"
   ]
  },
  {
   "cell_type": "code",
   "execution_count": 80,
   "id": "f008cb52",
   "metadata": {},
   "outputs": [],
   "source": [
    "# Splitting the dataset into the Training set and Test set\n",
    "X = df.iloc[:, [0,1,2,3,4]].values\n",
    "y = df.iloc[:, 5].values\n",
    "\n"
   ]
  },
  {
   "cell_type": "code",
   "execution_count": 81,
   "id": "dc01ffb0",
   "metadata": {},
   "outputs": [],
   "source": [
    "np.random.seed(7) # definindo uma seed global \n",
    "\n",
    "# particionando em conjuntos de treino e teste mantendo a proporção de classes\n",
    "X_train, X_test, Y_train, Y_test = train_test_split(X, y, test_size=0.2, stratify=y)"
   ]
  },
  {
   "cell_type": "markdown",
   "id": "b6c5a864",
   "metadata": {},
   "source": [
    "## APLICAÇÃO DO ALGORITMO LR"
   ]
  },
  {
   "cell_type": "code",
   "execution_count": 82,
   "id": "30a1d02b",
   "metadata": {},
   "outputs": [
    {
     "ename": "ValueError",
     "evalue": "Input contains NaN, infinity or a value too large for dtype('float64').",
     "output_type": "error",
     "traceback": [
      "\u001b[1;31m---------------------------------------------------------------------------\u001b[0m",
      "\u001b[1;31mValueError\u001b[0m                                Traceback (most recent call last)",
      "Input \u001b[1;32mIn [82]\u001b[0m, in \u001b[0;36m<cell line: 3>\u001b[1;34m()\u001b[0m\n\u001b[0;32m      1\u001b[0m \u001b[38;5;66;03m# Criando modelo e treinando com os dados de treino\u001b[39;00m\n\u001b[0;32m      2\u001b[0m clr \u001b[38;5;241m=\u001b[39m LogisticRegression()\n\u001b[1;32m----> 3\u001b[0m \u001b[43mclr\u001b[49m\u001b[38;5;241;43m.\u001b[39;49m\u001b[43mfit\u001b[49m\u001b[43m(\u001b[49m\u001b[43mX_train\u001b[49m\u001b[43m,\u001b[49m\u001b[43m \u001b[49m\u001b[43mY_train\u001b[49m\u001b[43m)\u001b[49m\n\u001b[0;32m      4\u001b[0m \u001b[38;5;66;03m# Fazendo a predição nos dados de treino\u001b[39;00m\n\u001b[0;32m      5\u001b[0m resultado_clr \u001b[38;5;241m=\u001b[39m clr\u001b[38;5;241m.\u001b[39mpredict(X_test)\n",
      "File \u001b[1;32m~\\anaconda3\\lib\\site-packages\\sklearn\\linear_model\\_logistic.py:1508\u001b[0m, in \u001b[0;36mLogisticRegression.fit\u001b[1;34m(self, X, y, sample_weight)\u001b[0m\n\u001b[0;32m   1505\u001b[0m \u001b[38;5;28;01melse\u001b[39;00m:\n\u001b[0;32m   1506\u001b[0m     _dtype \u001b[38;5;241m=\u001b[39m [np\u001b[38;5;241m.\u001b[39mfloat64, np\u001b[38;5;241m.\u001b[39mfloat32]\n\u001b[1;32m-> 1508\u001b[0m X, y \u001b[38;5;241m=\u001b[39m \u001b[38;5;28;43mself\u001b[39;49m\u001b[38;5;241;43m.\u001b[39;49m\u001b[43m_validate_data\u001b[49m\u001b[43m(\u001b[49m\n\u001b[0;32m   1509\u001b[0m \u001b[43m    \u001b[49m\u001b[43mX\u001b[49m\u001b[43m,\u001b[49m\n\u001b[0;32m   1510\u001b[0m \u001b[43m    \u001b[49m\u001b[43my\u001b[49m\u001b[43m,\u001b[49m\n\u001b[0;32m   1511\u001b[0m \u001b[43m    \u001b[49m\u001b[43maccept_sparse\u001b[49m\u001b[38;5;241;43m=\u001b[39;49m\u001b[38;5;124;43m\"\u001b[39;49m\u001b[38;5;124;43mcsr\u001b[39;49m\u001b[38;5;124;43m\"\u001b[39;49m\u001b[43m,\u001b[49m\n\u001b[0;32m   1512\u001b[0m \u001b[43m    \u001b[49m\u001b[43mdtype\u001b[49m\u001b[38;5;241;43m=\u001b[39;49m\u001b[43m_dtype\u001b[49m\u001b[43m,\u001b[49m\n\u001b[0;32m   1513\u001b[0m \u001b[43m    \u001b[49m\u001b[43morder\u001b[49m\u001b[38;5;241;43m=\u001b[39;49m\u001b[38;5;124;43m\"\u001b[39;49m\u001b[38;5;124;43mC\u001b[39;49m\u001b[38;5;124;43m\"\u001b[39;49m\u001b[43m,\u001b[49m\n\u001b[0;32m   1514\u001b[0m \u001b[43m    \u001b[49m\u001b[43maccept_large_sparse\u001b[49m\u001b[38;5;241;43m=\u001b[39;49m\u001b[43msolver\u001b[49m\u001b[43m \u001b[49m\u001b[38;5;129;43;01mnot\u001b[39;49;00m\u001b[43m \u001b[49m\u001b[38;5;129;43;01min\u001b[39;49;00m\u001b[43m \u001b[49m\u001b[43m[\u001b[49m\u001b[38;5;124;43m\"\u001b[39;49m\u001b[38;5;124;43mliblinear\u001b[39;49m\u001b[38;5;124;43m\"\u001b[39;49m\u001b[43m,\u001b[49m\u001b[43m \u001b[49m\u001b[38;5;124;43m\"\u001b[39;49m\u001b[38;5;124;43msag\u001b[39;49m\u001b[38;5;124;43m\"\u001b[39;49m\u001b[43m,\u001b[49m\u001b[43m \u001b[49m\u001b[38;5;124;43m\"\u001b[39;49m\u001b[38;5;124;43msaga\u001b[39;49m\u001b[38;5;124;43m\"\u001b[39;49m\u001b[43m]\u001b[49m\u001b[43m,\u001b[49m\n\u001b[0;32m   1515\u001b[0m \u001b[43m\u001b[49m\u001b[43m)\u001b[49m\n\u001b[0;32m   1516\u001b[0m check_classification_targets(y)\n\u001b[0;32m   1517\u001b[0m \u001b[38;5;28mself\u001b[39m\u001b[38;5;241m.\u001b[39mclasses_ \u001b[38;5;241m=\u001b[39m np\u001b[38;5;241m.\u001b[39munique(y)\n",
      "File \u001b[1;32m~\\anaconda3\\lib\\site-packages\\sklearn\\base.py:581\u001b[0m, in \u001b[0;36mBaseEstimator._validate_data\u001b[1;34m(self, X, y, reset, validate_separately, **check_params)\u001b[0m\n\u001b[0;32m    579\u001b[0m         y \u001b[38;5;241m=\u001b[39m check_array(y, \u001b[38;5;241m*\u001b[39m\u001b[38;5;241m*\u001b[39mcheck_y_params)\n\u001b[0;32m    580\u001b[0m     \u001b[38;5;28;01melse\u001b[39;00m:\n\u001b[1;32m--> 581\u001b[0m         X, y \u001b[38;5;241m=\u001b[39m check_X_y(X, y, \u001b[38;5;241m*\u001b[39m\u001b[38;5;241m*\u001b[39mcheck_params)\n\u001b[0;32m    582\u001b[0m     out \u001b[38;5;241m=\u001b[39m X, y\n\u001b[0;32m    584\u001b[0m \u001b[38;5;28;01mif\u001b[39;00m \u001b[38;5;129;01mnot\u001b[39;00m no_val_X \u001b[38;5;129;01mand\u001b[39;00m check_params\u001b[38;5;241m.\u001b[39mget(\u001b[38;5;124m\"\u001b[39m\u001b[38;5;124mensure_2d\u001b[39m\u001b[38;5;124m\"\u001b[39m, \u001b[38;5;28;01mTrue\u001b[39;00m):\n",
      "File \u001b[1;32m~\\anaconda3\\lib\\site-packages\\sklearn\\utils\\validation.py:964\u001b[0m, in \u001b[0;36mcheck_X_y\u001b[1;34m(X, y, accept_sparse, accept_large_sparse, dtype, order, copy, force_all_finite, ensure_2d, allow_nd, multi_output, ensure_min_samples, ensure_min_features, y_numeric, estimator)\u001b[0m\n\u001b[0;32m    961\u001b[0m \u001b[38;5;28;01mif\u001b[39;00m y \u001b[38;5;129;01mis\u001b[39;00m \u001b[38;5;28;01mNone\u001b[39;00m:\n\u001b[0;32m    962\u001b[0m     \u001b[38;5;28;01mraise\u001b[39;00m \u001b[38;5;167;01mValueError\u001b[39;00m(\u001b[38;5;124m\"\u001b[39m\u001b[38;5;124my cannot be None\u001b[39m\u001b[38;5;124m\"\u001b[39m)\n\u001b[1;32m--> 964\u001b[0m X \u001b[38;5;241m=\u001b[39m \u001b[43mcheck_array\u001b[49m\u001b[43m(\u001b[49m\n\u001b[0;32m    965\u001b[0m \u001b[43m    \u001b[49m\u001b[43mX\u001b[49m\u001b[43m,\u001b[49m\n\u001b[0;32m    966\u001b[0m \u001b[43m    \u001b[49m\u001b[43maccept_sparse\u001b[49m\u001b[38;5;241;43m=\u001b[39;49m\u001b[43maccept_sparse\u001b[49m\u001b[43m,\u001b[49m\n\u001b[0;32m    967\u001b[0m \u001b[43m    \u001b[49m\u001b[43maccept_large_sparse\u001b[49m\u001b[38;5;241;43m=\u001b[39;49m\u001b[43maccept_large_sparse\u001b[49m\u001b[43m,\u001b[49m\n\u001b[0;32m    968\u001b[0m \u001b[43m    \u001b[49m\u001b[43mdtype\u001b[49m\u001b[38;5;241;43m=\u001b[39;49m\u001b[43mdtype\u001b[49m\u001b[43m,\u001b[49m\n\u001b[0;32m    969\u001b[0m \u001b[43m    \u001b[49m\u001b[43morder\u001b[49m\u001b[38;5;241;43m=\u001b[39;49m\u001b[43morder\u001b[49m\u001b[43m,\u001b[49m\n\u001b[0;32m    970\u001b[0m \u001b[43m    \u001b[49m\u001b[43mcopy\u001b[49m\u001b[38;5;241;43m=\u001b[39;49m\u001b[43mcopy\u001b[49m\u001b[43m,\u001b[49m\n\u001b[0;32m    971\u001b[0m \u001b[43m    \u001b[49m\u001b[43mforce_all_finite\u001b[49m\u001b[38;5;241;43m=\u001b[39;49m\u001b[43mforce_all_finite\u001b[49m\u001b[43m,\u001b[49m\n\u001b[0;32m    972\u001b[0m \u001b[43m    \u001b[49m\u001b[43mensure_2d\u001b[49m\u001b[38;5;241;43m=\u001b[39;49m\u001b[43mensure_2d\u001b[49m\u001b[43m,\u001b[49m\n\u001b[0;32m    973\u001b[0m \u001b[43m    \u001b[49m\u001b[43mallow_nd\u001b[49m\u001b[38;5;241;43m=\u001b[39;49m\u001b[43mallow_nd\u001b[49m\u001b[43m,\u001b[49m\n\u001b[0;32m    974\u001b[0m \u001b[43m    \u001b[49m\u001b[43mensure_min_samples\u001b[49m\u001b[38;5;241;43m=\u001b[39;49m\u001b[43mensure_min_samples\u001b[49m\u001b[43m,\u001b[49m\n\u001b[0;32m    975\u001b[0m \u001b[43m    \u001b[49m\u001b[43mensure_min_features\u001b[49m\u001b[38;5;241;43m=\u001b[39;49m\u001b[43mensure_min_features\u001b[49m\u001b[43m,\u001b[49m\n\u001b[0;32m    976\u001b[0m \u001b[43m    \u001b[49m\u001b[43mestimator\u001b[49m\u001b[38;5;241;43m=\u001b[39;49m\u001b[43mestimator\u001b[49m\u001b[43m,\u001b[49m\n\u001b[0;32m    977\u001b[0m \u001b[43m\u001b[49m\u001b[43m)\u001b[49m\n\u001b[0;32m    979\u001b[0m y \u001b[38;5;241m=\u001b[39m _check_y(y, multi_output\u001b[38;5;241m=\u001b[39mmulti_output, y_numeric\u001b[38;5;241m=\u001b[39my_numeric)\n\u001b[0;32m    981\u001b[0m check_consistent_length(X, y)\n",
      "File \u001b[1;32m~\\anaconda3\\lib\\site-packages\\sklearn\\utils\\validation.py:800\u001b[0m, in \u001b[0;36mcheck_array\u001b[1;34m(array, accept_sparse, accept_large_sparse, dtype, order, copy, force_all_finite, ensure_2d, allow_nd, ensure_min_samples, ensure_min_features, estimator)\u001b[0m\n\u001b[0;32m    794\u001b[0m         \u001b[38;5;28;01mraise\u001b[39;00m \u001b[38;5;167;01mValueError\u001b[39;00m(\n\u001b[0;32m    795\u001b[0m             \u001b[38;5;124m\"\u001b[39m\u001b[38;5;124mFound array with dim \u001b[39m\u001b[38;5;132;01m%d\u001b[39;00m\u001b[38;5;124m. \u001b[39m\u001b[38;5;132;01m%s\u001b[39;00m\u001b[38;5;124m expected <= 2.\u001b[39m\u001b[38;5;124m\"\u001b[39m\n\u001b[0;32m    796\u001b[0m             \u001b[38;5;241m%\u001b[39m (array\u001b[38;5;241m.\u001b[39mndim, estimator_name)\n\u001b[0;32m    797\u001b[0m         )\n\u001b[0;32m    799\u001b[0m     \u001b[38;5;28;01mif\u001b[39;00m force_all_finite:\n\u001b[1;32m--> 800\u001b[0m         \u001b[43m_assert_all_finite\u001b[49m\u001b[43m(\u001b[49m\u001b[43marray\u001b[49m\u001b[43m,\u001b[49m\u001b[43m \u001b[49m\u001b[43mallow_nan\u001b[49m\u001b[38;5;241;43m=\u001b[39;49m\u001b[43mforce_all_finite\u001b[49m\u001b[43m \u001b[49m\u001b[38;5;241;43m==\u001b[39;49m\u001b[43m \u001b[49m\u001b[38;5;124;43m\"\u001b[39;49m\u001b[38;5;124;43mallow-nan\u001b[39;49m\u001b[38;5;124;43m\"\u001b[39;49m\u001b[43m)\u001b[49m\n\u001b[0;32m    802\u001b[0m \u001b[38;5;28;01mif\u001b[39;00m ensure_min_samples \u001b[38;5;241m>\u001b[39m \u001b[38;5;241m0\u001b[39m:\n\u001b[0;32m    803\u001b[0m     n_samples \u001b[38;5;241m=\u001b[39m _num_samples(array)\n",
      "File \u001b[1;32m~\\anaconda3\\lib\\site-packages\\sklearn\\utils\\validation.py:114\u001b[0m, in \u001b[0;36m_assert_all_finite\u001b[1;34m(X, allow_nan, msg_dtype)\u001b[0m\n\u001b[0;32m    107\u001b[0m     \u001b[38;5;28;01mif\u001b[39;00m (\n\u001b[0;32m    108\u001b[0m         allow_nan\n\u001b[0;32m    109\u001b[0m         \u001b[38;5;129;01mand\u001b[39;00m np\u001b[38;5;241m.\u001b[39misinf(X)\u001b[38;5;241m.\u001b[39many()\n\u001b[0;32m    110\u001b[0m         \u001b[38;5;129;01mor\u001b[39;00m \u001b[38;5;129;01mnot\u001b[39;00m allow_nan\n\u001b[0;32m    111\u001b[0m         \u001b[38;5;129;01mand\u001b[39;00m \u001b[38;5;129;01mnot\u001b[39;00m np\u001b[38;5;241m.\u001b[39misfinite(X)\u001b[38;5;241m.\u001b[39mall()\n\u001b[0;32m    112\u001b[0m     ):\n\u001b[0;32m    113\u001b[0m         type_err \u001b[38;5;241m=\u001b[39m \u001b[38;5;124m\"\u001b[39m\u001b[38;5;124minfinity\u001b[39m\u001b[38;5;124m\"\u001b[39m \u001b[38;5;28;01mif\u001b[39;00m allow_nan \u001b[38;5;28;01melse\u001b[39;00m \u001b[38;5;124m\"\u001b[39m\u001b[38;5;124mNaN, infinity\u001b[39m\u001b[38;5;124m\"\u001b[39m\n\u001b[1;32m--> 114\u001b[0m         \u001b[38;5;28;01mraise\u001b[39;00m \u001b[38;5;167;01mValueError\u001b[39;00m(\n\u001b[0;32m    115\u001b[0m             msg_err\u001b[38;5;241m.\u001b[39mformat(\n\u001b[0;32m    116\u001b[0m                 type_err, msg_dtype \u001b[38;5;28;01mif\u001b[39;00m msg_dtype \u001b[38;5;129;01mis\u001b[39;00m \u001b[38;5;129;01mnot\u001b[39;00m \u001b[38;5;28;01mNone\u001b[39;00m \u001b[38;5;28;01melse\u001b[39;00m X\u001b[38;5;241m.\u001b[39mdtype\n\u001b[0;32m    117\u001b[0m             )\n\u001b[0;32m    118\u001b[0m         )\n\u001b[0;32m    119\u001b[0m \u001b[38;5;66;03m# for object dtype data, we only check for NaNs (GH-13254)\u001b[39;00m\n\u001b[0;32m    120\u001b[0m \u001b[38;5;28;01melif\u001b[39;00m X\u001b[38;5;241m.\u001b[39mdtype \u001b[38;5;241m==\u001b[39m np\u001b[38;5;241m.\u001b[39mdtype(\u001b[38;5;124m\"\u001b[39m\u001b[38;5;124mobject\u001b[39m\u001b[38;5;124m\"\u001b[39m) \u001b[38;5;129;01mand\u001b[39;00m \u001b[38;5;129;01mnot\u001b[39;00m allow_nan:\n",
      "\u001b[1;31mValueError\u001b[0m: Input contains NaN, infinity or a value too large for dtype('float64')."
     ]
    }
   ],
   "source": [
    "# Criando modelo e treinando com os dados de treino\n",
    "clr = LogisticRegression()\n",
    "clr.fit(X_train, Y_train)\n",
    "# Fazendo a predição nos dados de treino\n",
    "resultado_clr = clr.predict(X_test)"
   ]
  },
  {
   "cell_type": "code",
   "execution_count": null,
   "id": "9a1f29a0",
   "metadata": {},
   "outputs": [],
   "source": []
  },
  {
   "cell_type": "code",
   "execution_count": 76,
   "id": "fef937f2",
   "metadata": {},
   "outputs": [
    {
     "data": {
      "image/png": "[encoded data removed]",
      "text/plain": [
       "<Figure size 864x864 with 2 Axes>"
      ]
     },
     "metadata": {
      "needs_background": "light"
     },
     "output_type": "display_data"
    }
   ],
   "source": [
    "# Matriz de orrelação\n",
    "import seaborn as sns\n",
    "plt.figure(figsize=(12, 12))\n",
    "sns.heatmap(df.corr(), annot=df.corr(), cmap='seismic_r')\n",
    "plt.show()"
   ]
  },
  {
   "cell_type": "code",
   "execution_count": null,
   "id": "dd8194ba",
   "metadata": {},
   "outputs": [],
   "source": []
  }
 ],
 "metadata": {
  "kernelspec": {
   "display_name": "Python 3 (ipykernel)",
   "language": "python",
   "name": "python3"
  },
  "language_info": {
   "codemirror_mode": {
    "name": "ipython",
    "version": 3
   },
   "file_extension": ".py",
   "mimetype": "text/x-python",
   "name": "python",
   "nbconvert_exporter": "python",
   "pygments_lexer": "ipython3",
   "version": "3.9.12"
  }
 },
 "nbformat": 4,
 "nbformat_minor": 5
}
